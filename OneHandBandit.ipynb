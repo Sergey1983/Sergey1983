{
 "cells": [
  {
   "cell_type": "code",
   "execution_count": 1,
   "metadata": {
    "collapsed": false
   },
   "outputs": [],
   "source": [
    "#imports, nothing to see here\n",
    "import numpy as np\n",
    "np.set_printoptions(threshold=np.nan)\n",
    "from scipy import stats\n",
    "import random\n",
    "import matplotlib.pyplot as plt\n",
    "%matplotlib inline"
   ]
  },
  {
   "cell_type": "code",
   "execution_count": 2,
   "metadata": {
    "collapsed": false
   },
   "outputs": [],
   "source": [
    "n = 10\n",
    "arms = np.random.rand(n)\n",
    "eps = 0.25\n",
    "trials = 100\n",
    "totalMeanReward=[]"
   ]
  },
  {
   "cell_type": "code",
   "execution_count": 3,
   "metadata": {
    "collapsed": false
   },
   "outputs": [
    {
     "name": "stdout",
     "output_type": "stream",
     "text": [
      "[ 0.0305727   0.07765056  0.42116286  0.70620203  0.7358476   0.69255745\n",
      "  0.52829269  0.75456458  0.34123982  0.18513813]\n"
     ]
    }
   ],
   "source": [
    "print arms"
   ]
  },
  {
   "cell_type": "code",
   "execution_count": 4,
   "metadata": {
    "collapsed": true
   },
   "outputs": [],
   "source": [
    "def reward(prob):\n",
    "    reward = 0;\n",
    "    for i in range(10):\n",
    "        if random.random() < prob:\n",
    "            reward += 1\n",
    "    return reward"
   ]
  },
  {
   "cell_type": "code",
   "execution_count": 5,
   "metadata": {
    "collapsed": false
   },
   "outputs": [
    {
     "data": {
      "text/plain": [
       "7"
      ]
     },
     "execution_count": 5,
     "metadata": {},
     "output_type": "execute_result"
    }
   ],
   "source": [
    "np.argmax(arms)"
   ]
  },
  {
   "cell_type": "code",
   "execution_count": 6,
   "metadata": {
    "collapsed": false
   },
   "outputs": [
    {
     "name": "stdout",
     "output_type": "stream",
     "text": [
      "av: [[1 0 0]]\n",
      "0\n"
     ]
    }
   ],
   "source": [
    "#initialize memory array; has 1 row defaulted to random action index\n",
    "av = np.array([np.random.randint(0,(n+1)), 0, 0]).reshape(1,3) #av = action-value\n",
    "avMock=av\n",
    "print \"av:\", av\n",
    "\n",
    "#greedy method to select best arm based on memory array (historical results)\n",
    "def bestArm(a):\n",
    "    bestArm = 0 #just default to 0\n",
    "    bestMean = 0\n",
    "    for u in a:\n",
    "        avg = np.mean(a[np.where(a[:,0] == u[0])][:, 1]) #calc mean reward for each action\n",
    "        if bestMean < avg:\n",
    "            bestMean = avg\n",
    "            bestArm = u[0]\n",
    "            \n",
    "    return bestArm\n",
    "\n",
    "choice = bestArm(av)\n",
    "print choice"
   ]
  },
  {
   "cell_type": "code",
   "execution_count": 7,
   "metadata": {
    "collapsed": false
   },
   "outputs": [
    {
     "name": "stdout",
     "output_type": "stream",
     "text": [
      "эпсилон (вероятность смены бандита): 0.25\n",
      "количество рук 10\n",
      "лучший бандит 7\n",
      "randarm% 18 %\n",
      "дергаем лучшего бандита 0\n",
      "финальная средняя прибыль за игру 6.50495049505\n"
     ]
    },
    {
     "data": {
      "image/png": "[encoded data removed]",
      "text/plain": [
       "<matplotlib.figure.Figure at 0x10d0f0fd0>"
      ]
     },
     "metadata": {},
     "output_type": "display_data"
    }
   ],
   "source": [
    "#print \"av initial\", av\n",
    "greedy=0\n",
    "randarm=0\n",
    "\n",
    "plt.xlabel(\"Plays\")\n",
    "plt.ylabel(\"Avg Reward\")\n",
    "plt.ylim([0,10]) \n",
    "#plt.ylabel(\"% pulling best arm\")\n",
    "for i in range(trials):\n",
    "    #a=random.random()\n",
    "    if random.random() > eps: #greedy arm selection\n",
    "        #print \"greedy\"\n",
    "        choice = bestArm(av)\n",
    "        thisAV = np.array([[choice, reward(arms[choice]), 0]])\n",
    "        av = np.concatenate((av, thisAV), axis=0) \n",
    "        greedy+=1\n",
    "    else: #random arm selection\n",
    "        #print \"random arm\"\n",
    "        choice = np.where(arms == np.random.choice(arms))[0][0]\n",
    "        thisAV = np.array([[choice, reward(arms[choice]), 1]]) #choice, reward \n",
    "        av = np.concatenate((av, thisAV), axis=0) #add to our action-value memory array\n",
    "        randarm+=1\n",
    "    #print 'iteration', i+1\n",
    "    #print 'choice aka bestArm:', choice\n",
    "    #print 'thisAV:', thisAV\n",
    "    #print 'av shape:', av.shape\n",
    "    #print 'av:', av\n",
    "    #print \"\"\n",
    "    #calculate the percentage the correct arm is chosen (you can plot this instead of reward)\n",
    "    #percCorrect = 100*len(av[np.where(av[:,0] == np.argmax(arms))])/len(av)\n",
    "    #calculate the mean reward\n",
    "    runningMean = np.mean(av[:,1])\n",
    "    plt.scatter(i, runningMean)\n",
    "    #plt.scatter(i, percCorrect)\n",
    "\n",
    "#print 'список \"дерганий\":\\n', av\n",
    "#print 'greedy', greedy, 'randarm', randarm\n",
    "percentRand = 100*randarm/trials\n",
    "\n",
    "print 'эпсилон (вероятность смены бандита):', eps\n",
    "print 'количество рук', len(arms)\n",
    "print 'лучший бандит', np.argmax(arms)\n",
    "print 'randarm%', percentRand,\"%\"\n",
    "percCorrect = 100*len(av[np.where(av[:,0] == np.argmax(arms))])/len(av)\n",
    "print \"дергаем лучшего бандита\", percCorrect\n",
    "print \"финальная средняя прибыль за игру\", np.mean(av[:,1])\n",
    "totalMeanReward.append(np.mean(av[:,1]))"
   ]
  },
  {
   "cell_type": "code",
   "execution_count": 8,
   "metadata": {
    "collapsed": true
   },
   "outputs": [],
   "source": [
    "# ЕСЛИ ХОЧЕТСЯ ПРОВЕРИТЬ, ЧТО ПРОИСХОДИТ НА КАЖДОЙ ПОПЫТКЕ:\n",
    "#print \"размер массива попыток\", av.shape\n",
    "#print \"попытки (0-рука, 1-выигрыш, 2-остались/поменяли)\", av"
   ]
  },
  {
   "cell_type": "code",
   "execution_count": 9,
   "metadata": {
    "collapsed": false
   },
   "outputs": [
    {
     "name": "stdout",
     "output_type": "stream",
     "text": [
      "эпсилон (вероятность смены бандита): 0.25\n",
      "количество рук 10\n",
      "лучший бандит 7\n",
      "randarm% 22 %\n",
      "дергаем лучшего бандита 73\n",
      "финальная средняя прибыль за игру 6.52475247525\n"
     ]
    },
    {
     "data": {
      "image/png": "[encoded data removed]",
      "text/plain": [
       "<matplotlib.figure.Figure at 0x10f962f10>"
      ]
     },
     "metadata": {},
     "output_type": "display_data"
    }
   ],
   "source": [
    "av=avMock\n",
    "#print \"av initial\", av\n",
    "greedy=0\n",
    "randarm=0\n",
    "\n",
    "plt.xlabel(\"Plays\")\n",
    "plt.ylabel(\"Avg Reward\")\n",
    "plt.ylim([0,10]) \n",
    "#plt.ylabel(\"% pulling best arm\")\n",
    "for i in range(trials):\n",
    "    #a=random.random()\n",
    "    if random.random() > eps: #greedy arm selection\n",
    "        #print \"greedy\"\n",
    "        choice = bestArm(av)\n",
    "        thisAV = np.array([[choice, reward(arms[choice]), 0]])\n",
    "        av = np.concatenate((av, thisAV), axis=0) \n",
    "        greedy+=1\n",
    "    else: #random arm selection\n",
    "        #print \"random arm\"\n",
    "        choice = np.where(arms == np.random.choice(arms))[0][0]\n",
    "        thisAV = np.array([[choice, reward(arms[choice]), 1]]) #choice, reward \n",
    "        av = np.concatenate((av, thisAV), axis=0) #add to our action-value memory array\n",
    "        randarm+=1\n",
    "    #print 'iteration', i+1\n",
    "    #print 'choice aka bestArm:', choice\n",
    "    #print 'thisAV:', thisAV\n",
    "    #print 'av shape:', av.shape\n",
    "    #print 'av:', av\n",
    "    #print \"\"\n",
    "    #calculate the percentage the correct arm is chosen (you can plot this instead of reward)\n",
    "    percCorrect = 100*len(av[np.where(av[:,0] == np.argmax(arms))])/len(av)\n",
    "    #calculate the mean reward\n",
    "    runningMean = np.mean(av[:,1])\n",
    "    plt.scatter(i, runningMean)\n",
    "    #plt.scatter(i, percCorrect)\n",
    "#print 'лучший бандит', np.argmax(arms)\n",
    "#print 'список \"дерганий\":\\n', av\n",
    "\n",
    "#print 'greedy', greedy, 'randarm', randarm\n",
    "percentRand = 100*randarm/trials\n",
    "print 'эпсилон (вероятность смены бандита):', eps\n",
    "print 'количество рук', len(arms)\n",
    "print 'лучший бандит', np.argmax(arms)\n",
    "print 'randarm%', percentRand,\"%\"\n",
    "percCorrect = 100*len(av[np.where(av[:,0] == np.argmax(arms))])/len(av)\n",
    "print \"дергаем лучшего бандита\", percCorrect\n",
    "print \"финальная средняя прибыль за игру\", np.mean(av[:,1])\n",
    "totalMeanReward.append(np.mean(av[:,1]))"
   ]
  },
  {
   "cell_type": "code",
   "execution_count": 10,
   "metadata": {
    "collapsed": false
   },
   "outputs": [
    {
     "name": "stdout",
     "output_type": "stream",
     "text": [
      "[[1 0 0]]\n",
      "эпсилон (вероятность смены бандита): 0.25\n",
      "количество рук 10\n",
      "лучший бандит 7\n",
      "randarm% 23 %\n",
      "дергаем лучшего бандита 61\n",
      "финальная средняя прибыль за игру 6.0099009901\n"
     ]
    },
    {
     "data": {
      "image/png": "[encoded data removed]",
      "text/plain": [
       "<matplotlib.figure.Figure at 0x10f8330d0>"
      ]
     },
     "metadata": {},
     "output_type": "display_data"
    }
   ],
   "source": [
    "av=avMock\n",
    "print av\n",
    "#print \"av initial\", av\n",
    "greedy=0\n",
    "randarm=0\n",
    "\n",
    "plt.xlabel(\"Plays\")\n",
    "plt.ylabel(\"Avg Reward\")\n",
    "plt.ylim([0,10]) \n",
    "#plt.ylabel(\"% pulling best arm\")\n",
    "for i in range(trials):\n",
    "    #a=random.random()\n",
    "    if random.random() > eps: #greedy arm selection\n",
    "        #print \"greedy\"\n",
    "        choice = bestArm(av)\n",
    "        thisAV = np.array([[choice, reward(arms[choice]), 0]])\n",
    "        av = np.concatenate((av, thisAV), axis=0) \n",
    "        greedy+=1\n",
    "    else: #random arm selection\n",
    "        #print \"random arm\"\n",
    "        choice = np.where(arms == np.random.choice(arms))[0][0]\n",
    "        thisAV = np.array([[choice, reward(arms[choice]), 1]]) #choice, reward \n",
    "        av = np.concatenate((av, thisAV), axis=0) #add to our action-value memory array\n",
    "        randarm+=1\n",
    "    #print 'iteration', i+1\n",
    "    #print 'choice aka bestArm:', choice\n",
    "    #print 'thisAV:', thisAV\n",
    "    #print 'av shape:', av.shape\n",
    "    #print 'av:', av\n",
    "    #print \"\"\n",
    "    #calculate the percentage the correct arm is chosen (you can plot this instead of reward)\n",
    "    percCorrect = 100*len(av[np.where(av[:,0] == np.argmax(arms))])/len(av)\n",
    "    #calculate the mean reward\n",
    "    runningMean = np.mean(av[:,1])\n",
    "    plt.scatter(i, runningMean)\n",
    "    #plt.scatter(i, percCorrect)\n",
    "#print 'лучший бандит', np.argmax(arms)\n",
    "#print 'список \"дерганий\":\\n', av\n",
    "\n",
    "#print 'greedy', greedy, 'randarm', randarm\n",
    "percentRand = 100*randarm/trials\n",
    "print 'эпсилон (вероятность смены бандита):', eps\n",
    "print 'количество рук', len(arms)\n",
    "print 'лучший бандит', np.argmax(arms)\n",
    "print 'randarm%', percentRand,\"%\"\n",
    "percCorrect = 100*len(av[np.where(av[:,0] == np.argmax(arms))])/len(av)\n",
    "print \"дергаем лучшего бандита\", percCorrect\n",
    "print \"финальная средняя прибыль за игру\", np.mean(av[:,1])\n",
    "totalMeanReward.append(np.mean(av[:,1]))"
   ]
  },
  {
   "cell_type": "code",
   "execution_count": 11,
   "metadata": {
    "collapsed": false
   },
   "outputs": [
    {
     "name": "stdout",
     "output_type": "stream",
     "text": [
      "эпсилон (вероятность смены бандита): 0.25\n",
      "количество рук 10\n",
      "лучший бандит 7\n",
      "randarm% 22 %\n",
      "дергаем лучшего бандита 0\n",
      "финальная средняя прибыль за игру 6.18811881188\n"
     ]
    },
    {
     "data": {
      "image/png": "[encoded data removed]",
      "text/plain": [
       "<matplotlib.figure.Figure at 0x10fba9dd0>"
      ]
     },
     "metadata": {},
     "output_type": "display_data"
    }
   ],
   "source": [
    "av=avMock\n",
    "#print \"av initial\", av\n",
    "greedy=0\n",
    "randarm=0\n",
    "\n",
    "plt.xlabel(\"Plays\")\n",
    "plt.ylabel(\"Avg Reward\")\n",
    "plt.ylim([0,10]) \n",
    "#plt.ylabel(\"% pulling best arm\")\n",
    "for i in range(trials):\n",
    "    #a=random.random()\n",
    "    if random.random() > eps: #greedy arm selection\n",
    "        #print \"greedy\"\n",
    "        choice = bestArm(av)\n",
    "        thisAV = np.array([[choice, reward(arms[choice]), 0]])\n",
    "        av = np.concatenate((av, thisAV), axis=0) \n",
    "        greedy+=1\n",
    "    else: #random arm selection\n",
    "        #print \"random arm\"\n",
    "        choice = np.where(arms == np.random.choice(arms))[0][0]\n",
    "        thisAV = np.array([[choice, reward(arms[choice]), 1]]) #choice, reward \n",
    "        av = np.concatenate((av, thisAV), axis=0) #add to our action-value memory array\n",
    "        randarm+=1\n",
    "    #print 'iteration', i+1\n",
    "    #print 'choice aka bestArm:', choice\n",
    "    #print 'thisAV:', thisAV\n",
    "    #print 'av shape:', av.shape\n",
    "    #print 'av:', av\n",
    "    #print \"\"\n",
    "    #calculate the percentage the correct arm is chosen (you can plot this instead of reward)\n",
    "    percCorrect = 100*len(av[np.where(av[:,0] == np.argmax(arms))])/len(av)\n",
    "    #calculate the mean reward\n",
    "    runningMean = np.mean(av[:,1])\n",
    "    plt.scatter(i, runningMean)\n",
    "    #plt.scatter(i, percCorrect)\n",
    "#print 'лучший бандит', np.argmax(arms)\n",
    "#print 'список \"дерганий\":\\n', av\n",
    "\n",
    "#print 'greedy', greedy, 'randarm', randarm\n",
    "percentRand = 100*randarm/trials\n",
    "print 'эпсилон (вероятность смены бандита):', eps\n",
    "print 'количество рук', len(arms)\n",
    "print 'лучший бандит', np.argmax(arms)\n",
    "print 'randarm%', percentRand,\"%\"\n",
    "percCorrect = 100*len(av[np.where(av[:,0] == np.argmax(arms))])/len(av)\n",
    "print \"дергаем лучшего бандита\", percCorrect\n",
    "print \"финальная средняя прибыль за игру\", np.mean(av[:,1])\n",
    "totalMeanReward.append(np.mean(av[:,1]))"
   ]
  },
  {
   "cell_type": "code",
   "execution_count": 12,
   "metadata": {
    "collapsed": false
   },
   "outputs": [
    {
     "name": "stdout",
     "output_type": "stream",
     "text": [
      "эпсилон (вероятность смены бандита): 0.25\n",
      "количество рук 10\n",
      "лучший бандит 7\n",
      "randarm% 34 %\n",
      "дергаем лучшего бандита 0\n",
      "финальная средняя прибыль за игру 5.48514851485\n"
     ]
    },
    {
     "data": {
      "image/png": "[encoded data removed]",
      "text/plain": [
       "<matplotlib.figure.Figure at 0x1100b9290>"
      ]
     },
     "metadata": {},
     "output_type": "display_data"
    }
   ],
   "source": [
    "av=avMock\n",
    "#print \"av initial\", av\n",
    "greedy=0\n",
    "randarm=0\n",
    "\n",
    "plt.xlabel(\"Plays\")\n",
    "plt.ylabel(\"Avg Reward\")\n",
    "plt.ylim([0,10]) \n",
    "#plt.ylabel(\"% pulling best arm\")\n",
    "for i in range(trials):\n",
    "    #a=random.random()\n",
    "    if random.random() > eps: #greedy arm selection\n",
    "        #print \"greedy\"\n",
    "        choice = bestArm(av)\n",
    "        thisAV = np.array([[choice, reward(arms[choice]), 0]])\n",
    "        av = np.concatenate((av, thisAV), axis=0) \n",
    "        greedy+=1\n",
    "    else: #random arm selection\n",
    "        #print \"random arm\"\n",
    "        choice = np.where(arms == np.random.choice(arms))[0][0]\n",
    "        thisAV = np.array([[choice, reward(arms[choice]), 1]]) #choice, reward \n",
    "        av = np.concatenate((av, thisAV), axis=0) #add to our action-value memory array\n",
    "        randarm+=1\n",
    "    #print 'iteration', i+1\n",
    "    #print 'choice aka bestArm:', choice\n",
    "    #print 'thisAV:', thisAV\n",
    "    #print 'av shape:', av.shape\n",
    "    #print 'av:', av\n",
    "    #print \"\"\n",
    "    #calculate the percentage the correct arm is chosen (you can plot this instead of reward)\n",
    "    percCorrect = 100*len(av[np.where(av[:,0] == np.argmax(arms))])/len(av)\n",
    "    #calculate the mean reward\n",
    "    runningMean = np.mean(av[:,1])\n",
    "    plt.scatter(i, runningMean)\n",
    "    #plt.scatter(i, percCorrect)\n",
    "#print 'лучший бандит', np.argmax(arms)\n",
    "#print 'список \"дерганий\":\\n', av\n",
    "\n",
    "#print 'greedy', greedy, 'randarm', randarm\n",
    "percentRand = 100*randarm/trials\n",
    "print 'эпсилон (вероятность смены бандита):', eps\n",
    "print 'количество рук', len(arms)\n",
    "print 'лучший бандит', np.argmax(arms)\n",
    "print 'randarm%', percentRand,\"%\"\n",
    "percCorrect = 100*len(av[np.where(av[:,0] == np.argmax(arms))])/len(av)\n",
    "print \"дергаем лучшего бандита\", percCorrect\n",
    "print \"финальная средняя прибыль за игру\", np.mean(av[:,1])\n",
    "totalMeanReward.append(np.mean(av[:,1]))"
   ]
  },
  {
   "cell_type": "code",
   "execution_count": 13,
   "metadata": {
    "collapsed": false
   },
   "outputs": [
    {
     "name": "stdout",
     "output_type": "stream",
     "text": [
      "eps (веротность смены бандита): 0.25\n",
      "попыток: 100\n",
      "кол-во бандитов: 10\n",
      "средний выигрыш за всю игру: 6.14257425743\n"
     ]
    }
   ],
   "source": [
    "print \"eps (веротность смены бандита):\", eps\n",
    "print \"попыток:\", trials\n",
    "print 'кол-во бандитов:', n\n",
    "print 'средний выигрыш за всю игру:', np.mean(totalMeanReward)"
   ]
  },
  {
   "cell_type": "code",
   "execution_count": null,
   "metadata": {
    "collapsed": true
   },
   "outputs": [],
   "source": []
  }
 ],
 "metadata": {
  "anaconda-cloud": {},
  "kernelspec": {
   "display_name": "Python [default]",
   "language": "python",
   "name": "python2"
  },
  "language_info": {
   "codemirror_mode": {
    "name": "ipython",
    "version": 2
   },
   "file_extension": ".py",
   "mimetype": "text/x-python",
   "name": "python",
   "nbconvert_exporter": "python",
   "pygments_lexer": "ipython2",
   "version": "2.7.12"
  }
 },
 "nbformat": 4,
 "nbformat_minor": 1
}
