{
 "cells": [
  {
   "cell_type": "code",
   "execution_count": 1,
   "metadata": {
    "collapsed": false
   },
   "outputs": [],
   "source": [
    "#imports, nothing to see here\n",
    "import numpy as np\n",
    "np.set_printoptions(threshold=np.nan)\n",
    "from scipy import stats\n",
    "import random\n",
    "import matplotlib.pyplot as plt\n",
    "%matplotlib inline"
   ]
  },
  {
   "cell_type": "code",
   "execution_count": 2,
   "metadata": {
    "collapsed": false
   },
   "outputs": [],
   "source": [
    "n = 10 # КОЛ-ВО АВТОМАТОВ\n",
    "arms = np.random.rand(n) # ВЕРОЯТНОСТЬ А ДЛЯ АВТОМАТА (СМ. НИЖЕ)\n",
    "eps = 0.8 # ВЕРОЯТНОСТЬ СМЕНЫ АВТОМАТА (ЕСЛИ 0.1 - МЕНЯЕМ ПРИБЛИЗИТЕЛЬНО В 10% СЛУЧАЕВ\n",
    "# РЕШЕНИЕ О СМЕНЕ АВТОМАТА ПРИНИМАЕТСЯ ПЕРЕД ЕГО ВЫБОРОМ)\n",
    "trials = 100 # ОБЩЕЕ КОЛ-ВО ПОПЫТОК\n",
    "totalMeanReward=[]"
   ]
  },
  {
   "cell_type": "code",
   "execution_count": 3,
   "metadata": {
    "collapsed": false
   },
   "outputs": [
    {
     "name": "stdout",
     "output_type": "stream",
     "text": [
      "[ 0.30714768  0.5653784   0.76827577  0.20846185  0.99397493  0.11075777\n",
      "  0.66608141  0.1851252   0.3973669   0.52357861]\n"
     ]
    }
   ],
   "source": [
    "print arms #ВЕРОЯТНОСТЬ А = ЕСЛИ 0.07999333, АВТОМАТ, СКОРЕЕ ВСЕГО, \n",
    "         #БУДЕТ ВЫДАВАТЬ $8 И БОЛЬШЕ БАКСОВ, РЕДКО МЕНЬШЕ И Т.Д"
   ]
  },
  {
   "cell_type": "code",
   "execution_count": 4,
   "metadata": {
    "collapsed": true
   },
   "outputs": [],
   "source": [
    "# Ф-ЦИЯ ВЫДАЧИ НАГРАДЫ ДЛЯ АВТОМАТА\n",
    "def reward(prob):\n",
    "    reward = 0;\n",
    "    for i in range(10):\n",
    "        if random.random() < prob:\n",
    "            reward += 1\n",
    "    return reward"
   ]
  },
  {
   "cell_type": "code",
   "execution_count": 5,
   "metadata": {
    "collapsed": false
   },
   "outputs": [
    {
     "data": {
      "text/plain": [
       "4"
      ]
     },
     "execution_count": 5,
     "metadata": {},
     "output_type": "execute_result"
    }
   ],
   "source": [
    "np.argmax(arms) # САМЫЙ \"КРУТОЙ\" АВТОМАТ"
   ]
  },
  {
   "cell_type": "code",
   "execution_count": 6,
   "metadata": {
    "collapsed": false
   },
   "outputs": [
    {
     "name": "stdout",
     "output_type": "stream",
     "text": [
      "av: [[7 0 0]]\n",
      "0\n"
     ]
    }
   ],
   "source": [
    "#initialize memory array; has 1 row defaulted to random action index\n",
    "av = np.array([np.random.randint(0,(n+1)), 0, 0]).reshape(1,3) #av = action-value\n",
    "avMock=av\n",
    "print \"av:\", av\n",
    "\n",
    "# Ф-ЦИЯ ОПРЕДЕЛЕНИЕ НАИЛУЧШЕГО АВТОМАТА НА ДАННЫЙ МОМЕНТ\n",
    "# ПО СР. АР. ВСЕХ ПОПЫТОК НА НЕМ\n",
    "\n",
    "#greedy method to select best arm based on memory array (historical results)\n",
    "def bestArm(a):\n",
    "    bestArm = 0 #just default to 0\n",
    "    bestMean = 0\n",
    "    for u in a:\n",
    "        avg = np.mean(a[np.where(a[:,0] == u[0])][:, 1]) #calc mean reward for each action\n",
    "        if bestMean < avg:\n",
    "            bestMean = avg\n",
    "            bestArm = u[0]\n",
    "            \n",
    "    return bestArm\n",
    "\n",
    "choice = bestArm(av)\n",
    "print choice"
   ]
  },
  {
   "cell_type": "markdown",
   "metadata": {},
   "source": [
    "## ИГРА 1"
   ]
  },
  {
   "cell_type": "code",
   "execution_count": 7,
   "metadata": {
    "collapsed": false
   },
   "outputs": [
    {
     "name": "stdout",
     "output_type": "stream",
     "text": [
      "эпсилон (вероятность смены бандита): 0.8\n",
      "количество бандитов 10\n",
      "лучший бандит 4\n",
      "% смен бандита% 72 %\n",
      "играли на лучшем бандите % раз 32\n",
      "финальная средняя прибыль за игру 6.12871287129\n"
     ]
    },
    {
     "data": {
      "image/png": "[encoded data removed]",
      "text/plain": [
       "<matplotlib.figure.Figure at 0x10d0e9f50>"
      ]
     },
     "metadata": {},
     "output_type": "display_data"
    }
   ],
   "source": [
    "#print \"av initial\", av\n",
    "greedy=0\n",
    "randarm=0\n",
    "\n",
    "plt.xlabel(\"Plays\")\n",
    "plt.ylabel(\"Avg Reward\")\n",
    "plt.ylim([0,10]) \n",
    "#plt.ylabel(\"% pulling best arm\")\n",
    "for i in range(trials):\n",
    "    #a=random.random()\n",
    "                                        #БРОСАЕМ \"КУБИК\"\n",
    "    if random.random() > eps: #ЕСЛИ БОЛЬШЕ EPS, \n",
    "        # ВЫБИРАЕМ САМЫЙ ВЫИГРЫШНЫЙ НА ДАННЫЙ МОМЕНТ\n",
    "        #print \"greedy\"\n",
    "        choice = bestArm(av)\n",
    "        thisAV = np.array([[choice, reward(arms[choice]), 0]]) # ДАЕТ НАМ ВЫИГРЫШ\n",
    "        av = np.concatenate((av, thisAV), axis=0) \n",
    "        greedy+=1\n",
    "    else: #random arm selection #ЕСЛИ МЕНЬШЕ EPS, БЕРЕМ ЛЮБОЙ\n",
    "        #print \"random arm\"\n",
    "        choice = np.where(arms == np.random.choice(arms))[0][0]\n",
    "        thisAV = np.array([[choice, reward(arms[choice]), 1]])  # ДАЕТ НАМ ВЫИГРЫШ\n",
    "        av = np.concatenate((av, thisAV), axis=0) #add to our action-value memory array\n",
    "        randarm+=1\n",
    "    #print 'iteration', i+1\n",
    "    #print 'choice aka bestArm:', choice\n",
    "    #print 'thisAV:', thisAV\n",
    "    #print 'av shape:', av.shape\n",
    "    #print 'av:', av\n",
    "    #print \"\"\n",
    "    #calculate the percentage the correct arm is chosen (you can plot this instead of reward)\n",
    "    #percCorrect = 100*len(av[np.where(av[:,0] == np.argmax(arms))])/len(av)\n",
    "    #calculate the mean reward\n",
    "    runningMean = np.mean(av[:,1]) # СЧИТАЕМ СР. ВЫИГРЫШ НА ДАННЫЙ МОМЕНТ\n",
    "    plt.scatter(i, runningMean) # РИСУЕМ ЕГО\n",
    "    #plt.scatter(i, percCorrect)\n",
    "\n",
    "#print 'список \"дерганий\":\\n', av\n",
    "#print 'greedy', greedy, 'randarm', randarm\n",
    "percentRand = 100*randarm/trials\n",
    "\n",
    "print 'эпсилон (вероятность смены бандита):', eps\n",
    "print 'количество бандитов', len(arms)\n",
    "print 'лучший бандит', np.argmax(arms)\n",
    "print '% смен бандита%', percentRand,\"%\"\n",
    "percCorrect = 100*len(av[np.where(av[:,0] == np.argmax(arms))])/len(av)\n",
    "print \"играли на лучшем бандите % раз\", percCorrect\n",
    "print \"финальная средняя прибыль за игру\", np.mean(av[:,1])\n",
    "totalMeanReward.append(np.mean(av[:,1]))"
   ]
  },
  {
   "cell_type": "code",
   "execution_count": 8,
   "metadata": {
    "collapsed": false
   },
   "outputs": [
    {
     "name": "stdout",
     "output_type": "stream",
     "text": [
      "список попыток. Колонки: 1-номер бандита(1-10), 2-выигрыш (1-10)\n",
      "В 3 колонке 0 - остаемся, 1 - меняем бандита \n",
      "\n",
      "Алгоритм устроен так, что после первой попытки всегда меняем на бандита с номером 0, дальше по алгоритму\n",
      "лучший бандит 4 если правильно выбран eps, то через некоторое кол-во попыток начинает постоянно\n",
      "выходить 4  в первой колонке\n",
      "[[ 7  0  0]\n",
      " [ 1  8  1]\n",
      " [ 1  9  0]\n",
      " [ 4 10  1]\n",
      " [ 4  9  0]\n",
      " [ 8  4  1]\n",
      " [ 4  9  1]\n",
      " [ 2  7  1]\n",
      " [ 4 10  0]\n",
      " [ 7  1  1]\n",
      " [ 4 10  0]\n",
      " [ 7  0  1]\n",
      " [ 5  2  1]\n",
      " [ 5  2  1]\n",
      " [ 2  8  1]\n",
      " [ 4 10  1]\n",
      " [ 4 10  0]\n",
      " [ 8  2  1]\n",
      " [ 4 10  0]\n",
      " [ 4 10  1]\n",
      " [ 4 10  0]\n",
      " [ 4 10  0]\n",
      " [ 2  8  1]\n",
      " [ 7  3  1]\n",
      " [ 8  4  1]\n",
      " [ 8  4  1]\n",
      " [ 8  2  1]\n",
      " [ 1  6  1]\n",
      " [ 7  3  1]\n",
      " [ 2  9  1]\n",
      " [ 0  3  1]\n",
      " [ 8  4  1]\n",
      " [ 2  6  1]\n",
      " [ 0  5  1]\n",
      " [ 4 10  0]\n",
      " [ 5  0  1]\n",
      " [ 0  2  1]\n",
      " [ 6  7  1]\n",
      " [ 9  7  1]\n",
      " [ 9  3  1]\n",
      " [ 3  0  1]\n",
      " [ 1  7  1]\n",
      " [ 4 10  0]\n",
      " [ 4 10  0]\n",
      " [ 5  1  1]\n",
      " [ 6  9  1]\n",
      " [ 8  4  1]\n",
      " [ 9  7  1]\n",
      " [ 7  1  1]\n",
      " [ 8  4  1]\n",
      " [ 6  3  1]\n",
      " [ 2  7  1]\n",
      " [ 3  2  1]\n",
      " [ 4 10  1]\n",
      " [ 9  6  1]\n",
      " [ 4 10  0]\n",
      " [ 4 10  0]\n",
      " [ 8  4  1]\n",
      " [ 2  7  1]\n",
      " [ 4  9  0]\n",
      " [ 7  3  1]\n",
      " [ 8  5  1]\n",
      " [ 4 10  0]\n",
      " [ 3  3  1]\n",
      " [ 4 10  0]\n",
      " [ 4 10  0]\n",
      " [ 4 10  0]\n",
      " [ 3  1  1]\n",
      " [ 2  8  1]\n",
      " [ 9  7  1]\n",
      " [ 7  2  1]\n",
      " [ 4 10  0]\n",
      " [ 4 10  0]\n",
      " [ 1  6  1]\n",
      " [ 5  1  1]\n",
      " [ 4 10  0]\n",
      " [ 4 10  0]\n",
      " [ 8  1  1]\n",
      " [ 7  0  1]\n",
      " [ 2  6  1]\n",
      " [ 6  8  1]\n",
      " [ 4 10  0]\n",
      " [ 4 10  0]\n",
      " [ 7  1  1]\n",
      " [ 2  8  1]\n",
      " [ 4 10  0]\n",
      " [ 6  7  1]\n",
      " [ 4  9  0]\n",
      " [ 1  9  1]\n",
      " [ 2  5  1]\n",
      " [ 4 10  0]\n",
      " [ 8  3  1]\n",
      " [ 9  5  1]\n",
      " [ 1  5  1]\n",
      " [ 9  3  1]\n",
      " [ 4 10  0]\n",
      " [ 0  4  1]\n",
      " [ 5  0  1]\n",
      " [ 1  5  1]\n",
      " [ 8  6  1]\n",
      " [ 4 10  1]]\n"
     ]
    }
   ],
   "source": [
    "# ЕСЛИ ХОЧЕТСЯ ПРОВЕРИТЬ, ЧТО ПРОИСХОДИТ НА КАЖДОЙ ПОПЫТКЕ:\n",
    "print \"список попыток. Колонки: 1-номер бандита(1-10), 2-выигрыш (1-10)\"\n",
    "print  \"В 3 колонке 0 - остаемся, 1 - меняем бандита \\n\"\n",
    "print \"Алгоритм устроен так, что после первой попытки всегда меняем на бандита с номером 0, дальше по алгоритму\"\n",
    "print 'лучший бандит', np.argmax(arms), 'если правильно выбран eps, то через некоторое кол-во попыток начинает постоянно'\n",
    "print 'выходить', np.argmax(arms), ' в первой колонке\\n', av"
   ]
  },
  {
   "cell_type": "markdown",
   "metadata": {},
   "source": [
    "## ИГРА 2"
   ]
  },
  {
   "cell_type": "code",
   "execution_count": 9,
   "metadata": {
    "collapsed": false
   },
   "outputs": [
    {
     "name": "stdout",
     "output_type": "stream",
     "text": [
      "эпсилон (вероятность смены бандита): 0.8\n",
      "количество бандитов 10\n",
      "лучший бандит 4\n",
      "randarm% 80 %\n",
      "дергаем лучшего бандита 26\n",
      "финальная средняя прибыль за игру 5.68316831683\n"
     ]
    },
    {
     "data": {
      "image/png": "[encoded data removed]",
      "text/plain": [
       "<matplotlib.figure.Figure at 0x10f7e0350>"
      ]
     },
     "metadata": {},
     "output_type": "display_data"
    }
   ],
   "source": [
    "av=avMock\n",
    "#print \"av initial\", av\n",
    "greedy=0\n",
    "randarm=0\n",
    "\n",
    "plt.xlabel(\"Plays\")\n",
    "plt.ylabel(\"Avg Reward\")\n",
    "plt.ylim([0,10]) \n",
    "#plt.ylabel(\"% pulling best arm\")\n",
    "for i in range(trials):\n",
    "    #a=random.random()\n",
    "    if random.random() > eps: #greedy arm selection\n",
    "        #print \"greedy\"\n",
    "        choice = bestArm(av)\n",
    "        thisAV = np.array([[choice, reward(arms[choice]), 0]])\n",
    "        av = np.concatenate((av, thisAV), axis=0) \n",
    "        greedy+=1\n",
    "    else: #random arm selection\n",
    "        #print \"random arm\"\n",
    "        choice = np.where(arms == np.random.choice(arms))[0][0]\n",
    "        thisAV = np.array([[choice, reward(arms[choice]), 1]]) #choice, reward \n",
    "        av = np.concatenate((av, thisAV), axis=0) #add to our action-value memory array\n",
    "        randarm+=1\n",
    "    #print 'iteration', i+1\n",
    "    #print 'choice aka bestArm:', choice\n",
    "    #print 'thisAV:', thisAV\n",
    "    #print 'av shape:', av.shape\n",
    "    #print 'av:', av\n",
    "    #print \"\"\n",
    "    #calculate the percentage the correct arm is chosen (you can plot this instead of reward)\n",
    "    percCorrect = 100*len(av[np.where(av[:,0] == np.argmax(arms))])/len(av)\n",
    "    #calculate the mean reward\n",
    "    runningMean = np.mean(av[:,1])\n",
    "    plt.scatter(i, runningMean)\n",
    "    #plt.scatter(i, percCorrect)\n",
    "#print 'лучший бандит', np.argmax(arms)\n",
    "#print 'список \"дерганий\":\\n', av\n",
    "\n",
    "#print 'greedy', greedy, 'randarm', randarm\n",
    "percentRand = 100*randarm/trials\n",
    "print 'эпсилон (вероятность смены бандита):', eps\n",
    "print 'количество бандитов', len(arms)\n",
    "print 'лучший бандит', np.argmax(arms)\n",
    "print 'randarm%', percentRand,\"%\"\n",
    "percCorrect = 100*len(av[np.where(av[:,0] == np.argmax(arms))])/len(av)\n",
    "print \"дергаем лучшего бандита\", percCorrect\n",
    "print \"финальная средняя прибыль за игру\", np.mean(av[:,1])\n",
    "totalMeanReward.append(np.mean(av[:,1]))"
   ]
  },
  {
   "cell_type": "markdown",
   "metadata": {},
   "source": [
    "## ИГРА 3"
   ]
  },
  {
   "cell_type": "code",
   "execution_count": 10,
   "metadata": {
    "collapsed": false
   },
   "outputs": [
    {
     "name": "stdout",
     "output_type": "stream",
     "text": [
      "эпсилон (вероятность смены бандита): 0.8\n",
      "количество бандитов 10\n",
      "лучший бандит 4\n",
      "randarm% 75 %\n",
      "дергаем лучшего бандита 22\n",
      "финальная средняя прибыль за игру 5.42574257426\n"
     ]
    },
    {
     "data": {
      "image/png": "[encoded data removed]",
      "text/plain": [
       "<matplotlib.figure.Figure at 0x10f6d3090>"
      ]
     },
     "metadata": {},
     "output_type": "display_data"
    }
   ],
   "source": [
    "av=avMock\n",
    "#print \"av initial\", av\n",
    "greedy=0\n",
    "randarm=0\n",
    "\n",
    "plt.xlabel(\"Plays\")\n",
    "plt.ylabel(\"Avg Reward\")\n",
    "plt.ylim([0,10]) \n",
    "#plt.ylabel(\"% pulling best arm\")\n",
    "for i in range(trials):\n",
    "    #a=random.random()\n",
    "    if random.random() > eps: #greedy arm selection\n",
    "        #print \"greedy\"\n",
    "        choice = bestArm(av)\n",
    "        thisAV = np.array([[choice, reward(arms[choice]), 0]])\n",
    "        av = np.concatenate((av, thisAV), axis=0) \n",
    "        greedy+=1\n",
    "    else: #random arm selection\n",
    "        #print \"random arm\"\n",
    "        choice = np.where(arms == np.random.choice(arms))[0][0]\n",
    "        thisAV = np.array([[choice, reward(arms[choice]), 1]]) #choice, reward \n",
    "        av = np.concatenate((av, thisAV), axis=0) #add to our action-value memory array\n",
    "        randarm+=1\n",
    "    #print 'iteration', i+1\n",
    "    #print 'choice aka bestArm:', choice\n",
    "    #print 'thisAV:', thisAV\n",
    "    #print 'av shape:', av.shape\n",
    "    #print 'av:', av\n",
    "    #print \"\"\n",
    "    #calculate the percentage the correct arm is chosen (you can plot this instead of reward)\n",
    "    percCorrect = 100*len(av[np.where(av[:,0] == np.argmax(arms))])/len(av)\n",
    "    #calculate the mean reward\n",
    "    runningMean = np.mean(av[:,1])\n",
    "    plt.scatter(i, runningMean)\n",
    "    #plt.scatter(i, percCorrect)\n",
    "#print 'лучший бандит', np.argmax(arms)\n",
    "#print 'список \"дерганий\":\\n', av\n",
    "\n",
    "#print 'greedy', greedy, 'randarm', randarm\n",
    "percentRand = 100*randarm/trials\n",
    "print 'эпсилон (вероятность смены бандита):', eps\n",
    "print 'количество бандитов', len(arms)\n",
    "print 'лучший бандит', np.argmax(arms)\n",
    "print 'randarm%', percentRand,\"%\"\n",
    "percCorrect = 100*len(av[np.where(av[:,0] == np.argmax(arms))])/len(av)\n",
    "print \"дергаем лучшего бандита\", percCorrect\n",
    "print \"финальная средняя прибыль за игру\", np.mean(av[:,1])\n",
    "totalMeanReward.append(np.mean(av[:,1]))"
   ]
  },
  {
   "cell_type": "markdown",
   "metadata": {},
   "source": [
    "## ИГРА 4"
   ]
  },
  {
   "cell_type": "code",
   "execution_count": 11,
   "metadata": {
    "collapsed": false
   },
   "outputs": [
    {
     "name": "stdout",
     "output_type": "stream",
     "text": [
      "эпсилон (вероятность смены бандита): 0.8\n",
      "количество бандитов 10\n",
      "лучший бандит 4\n",
      "randarm% 73 %\n",
      "дергаем лучшего бандита 35\n",
      "финальная средняя прибыль за игру 5.85148514851\n"
     ]
    },
    {
     "data": {
      "image/png": "[encoded data removed]",
      "text/plain": [
       "<matplotlib.figure.Figure at 0x10fbabe10>"
      ]
     },
     "metadata": {},
     "output_type": "display_data"
    }
   ],
   "source": [
    "av=avMock\n",
    "#print \"av initial\", av\n",
    "greedy=0\n",
    "randarm=0\n",
    "\n",
    "plt.xlabel(\"Plays\")\n",
    "plt.ylabel(\"Avg Reward\")\n",
    "plt.ylim([0,10]) \n",
    "#plt.ylabel(\"% pulling best arm\")\n",
    "for i in range(trials):\n",
    "    #a=random.random()\n",
    "    if random.random() > eps: #greedy arm selection\n",
    "        #print \"greedy\"\n",
    "        choice = bestArm(av)\n",
    "        thisAV = np.array([[choice, reward(arms[choice]), 0]])\n",
    "        av = np.concatenate((av, thisAV), axis=0) \n",
    "        greedy+=1\n",
    "    else: #random arm selection\n",
    "        #print \"random arm\"\n",
    "        choice = np.where(arms == np.random.choice(arms))[0][0]\n",
    "        thisAV = np.array([[choice, reward(arms[choice]), 1]]) #choice, reward \n",
    "        av = np.concatenate((av, thisAV), axis=0) #add to our action-value memory array\n",
    "        randarm+=1\n",
    "    #print 'iteration', i+1\n",
    "    #print 'choice aka bestArm:', choice\n",
    "    #print 'thisAV:', thisAV\n",
    "    #print 'av shape:', av.shape\n",
    "    #print 'av:', av\n",
    "    #print \"\"\n",
    "    #calculate the percentage the correct arm is chosen (you can plot this instead of reward)\n",
    "    percCorrect = 100*len(av[np.where(av[:,0] == np.argmax(arms))])/len(av)\n",
    "    #calculate the mean reward\n",
    "    runningMean = np.mean(av[:,1])\n",
    "    plt.scatter(i, runningMean)\n",
    "    #plt.scatter(i, percCorrect)\n",
    "#print 'лучший бандит', np.argmax(arms)\n",
    "#print 'список \"дерганий\":\\n', av\n",
    "\n",
    "#print 'greedy', greedy, 'randarm', randarm\n",
    "percentRand = 100*randarm/trials\n",
    "print 'эпсилон (вероятность смены бандита):', eps\n",
    "print 'количество бандитов', len(arms)\n",
    "print 'лучший бандит', np.argmax(arms)\n",
    "print 'randarm%', percentRand,\"%\"\n",
    "percCorrect = 100*len(av[np.where(av[:,0] == np.argmax(arms))])/len(av)\n",
    "print \"дергаем лучшего бандита\", percCorrect\n",
    "print \"финальная средняя прибыль за игру\", np.mean(av[:,1])\n",
    "totalMeanReward.append(np.mean(av[:,1]))"
   ]
  },
  {
   "cell_type": "markdown",
   "metadata": {},
   "source": [
    "## ИГРА 5"
   ]
  },
  {
   "cell_type": "code",
   "execution_count": 12,
   "metadata": {
    "collapsed": false
   },
   "outputs": [
    {
     "name": "stdout",
     "output_type": "stream",
     "text": [
      "эпсилон (вероятность смены бандита): 0.8\n",
      "количество бандитов 10\n",
      "лучший бандит 4\n",
      "randarm% 82 %\n",
      "дергаем лучшего бандита 31\n",
      "финальная средняя прибыль за игру 5.9504950495\n"
     ]
    },
    {
     "data": {
      "image/png": "[encoded data removed]",
      "text/plain": [
       "<matplotlib.figure.Figure at 0x110115310>"
      ]
     },
     "metadata": {},
     "output_type": "display_data"
    }
   ],
   "source": [
    "av=avMock\n",
    "#print \"av initial\", av\n",
    "greedy=0\n",
    "randarm=0\n",
    "\n",
    "plt.xlabel(\"Plays\")\n",
    "plt.ylabel(\"Avg Reward\")\n",
    "plt.ylim([0,10]) \n",
    "#plt.ylabel(\"% pulling best arm\")\n",
    "for i in range(trials):\n",
    "    #a=random.random()\n",
    "    if random.random() > eps: #greedy arm selection\n",
    "        #print \"greedy\"\n",
    "        choice = bestArm(av)\n",
    "        thisAV = np.array([[choice, reward(arms[choice]), 0]])\n",
    "        av = np.concatenate((av, thisAV), axis=0) \n",
    "        greedy+=1\n",
    "    else: #random arm selection\n",
    "        #print \"random arm\"\n",
    "        choice = np.where(arms == np.random.choice(arms))[0][0]\n",
    "        thisAV = np.array([[choice, reward(arms[choice]), 1]]) #choice, reward \n",
    "        av = np.concatenate((av, thisAV), axis=0) #add to our action-value memory array\n",
    "        randarm+=1\n",
    "    #print 'iteration', i+1\n",
    "    #print 'choice aka bestArm:', choice\n",
    "    #print 'thisAV:', thisAV\n",
    "    #print 'av shape:', av.shape\n",
    "    #print 'av:', av\n",
    "    #print \"\"\n",
    "    #calculate the percentage the correct arm is chosen (you can plot this instead of reward)\n",
    "    percCorrect = 100*len(av[np.where(av[:,0] == np.argmax(arms))])/len(av)\n",
    "    #calculate the mean reward\n",
    "    runningMean = np.mean(av[:,1])\n",
    "    plt.scatter(i, runningMean)\n",
    "    #plt.scatter(i, percCorrect)\n",
    "#print 'лучший бандит', np.argmax(arms)\n",
    "#print 'список попыток. В последней колонке 0 - остаемся, 1 - меняем', av\n",
    "\n",
    "#print 'greedy', greedy, 'randarm', randarm\n",
    "percentRand = 100*randarm/trials\n",
    "print 'эпсилон (вероятность смены бандита):', eps\n",
    "print 'количество бандитов', len(arms)\n",
    "print 'лучший бандит', np.argmax(arms)\n",
    "print 'randarm%', percentRand,\"%\"\n",
    "percCorrect = 100*len(av[np.where(av[:,0] == np.argmax(arms))])/len(av)\n",
    "print \"дергаем лучшего бандита\", percCorrect\n",
    "print \"финальная средняя прибыль за игру\", np.mean(av[:,1])\n",
    "totalMeanReward.append(np.mean(av[:,1]))"
   ]
  },
  {
   "cell_type": "markdown",
   "metadata": {},
   "source": [
    "## ВСЕГО ЗА ИГРЫ"
   ]
  },
  {
   "cell_type": "code",
   "execution_count": 13,
   "metadata": {
    "collapsed": false
   },
   "outputs": [
    {
     "name": "stdout",
     "output_type": "stream",
     "text": [
      "eps (веротность смены бандита): 0.8\n",
      "попыток в каждой игре: 100\n",
      "кол-во бандитов в игре: 10\n",
      "СРЕДНИЙ ВЫИГРЫШ ЗА 5 ИГР: 5.80792079208\n"
     ]
    }
   ],
   "source": [
    "print \"eps (веротность смены бандита):\", eps\n",
    "print \"попыток в каждой игре:\", trials\n",
    "print 'кол-во бандитов в игре:', n\n",
    "print 'СРЕДНИЙ ВЫИГРЫШ ЗА 5 ИГР:', np.mean(totalMeanReward)"
   ]
  },
  {
   "cell_type": "code",
   "execution_count": null,
   "metadata": {
    "collapsed": true
   },
   "outputs": [],
   "source": []
  }
 ],
 "metadata": {
  "anaconda-cloud": {},
  "kernelspec": {
   "display_name": "Python [default]",
   "language": "python",
   "name": "python2"
  },
  "language_info": {
   "codemirror_mode": {
    "name": "ipython",
    "version": 2
   },
   "file_extension": ".py",
   "mimetype": "text/x-python",
   "name": "python",
   "nbconvert_exporter": "python",
   "pygments_lexer": "ipython2",
   "version": "2.7.12"
  }
 },
 "nbformat": 4,
 "nbformat_minor": 1
}
